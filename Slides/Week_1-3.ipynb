{
 "cells": [
  {
   "cell_type": "raw",
   "metadata": {
    "slideshow": {
     "slide_type": "-"
    },
    "tags": []
   },
   "source": [
    "<script>\n",
    "    function findAncestor (el, name) {\n",
    "        while ((el = el.parentElement) && el.nodeName.toLowerCase() !== name);\n",
    "        return el;\n",
    "    }\n",
    "    function colorAll(el, textColor) {\n",
    "        el.style.color = textColor;\n",
    "        Array.from(el.children).forEach((e) => {colorAll(e, textColor);});\n",
    "    }\n",
    "    function setBackgroundImage(src, textColor) {\n",
    "        var section = findAncestor(document.currentScript, \"section\");\n",
    "        if (section) {\n",
    "            section.setAttribute(\"data-background-image\", src);\n",
    "\t\t\tif (textColor) colorAll(section, textColor);\n",
    "        }\n",
    "    }\n",
    "</script>"
   ]
  },
  {
   "cell_type": "raw",
   "metadata": {
    "slideshow": {
     "slide_type": "-"
    },
    "tags": []
   },
   "source": [
    "<style>\n",
    "h1 {\n",
    "  border: 1.5px solid #333;\n",
    "  padding: 8px 12px;\n",
    "  background-image: linear-gradient(#2774AE,#ebf8e1, #FFD100);\n",
    "  position: static;\n",
    "}\n",
    "</style>"
   ]
  },
  {
   "cell_type": "markdown",
   "metadata": {
    "slideshow": {
     "slide_type": "slide"
    }
   },
   "source": [
    "<h1> Statistics 21 <br/> Introduction to Jupyter and IPython </h1>\n",
    "<h3 style='color:white; font-weight:800'>Vivian Lew, PhD - Friday, Week 1</h3>"
   ]
  },
  {
   "cell_type": "raw",
   "metadata": {
    "slideshow": {
     "slide_type": "-"
    },
    "tags": []
   },
   "source": [
    "<script>\n",
    "    setBackgroundImage(\"Window1.JPG\");\n",
    "</script>"
   ]
  },
  {
   "cell_type": "markdown",
   "metadata": {
    "jp-MarkdownHeadingCollapsed": true,
    "slideshow": {
     "slide_type": "slide"
    },
    "tags": []
   },
   "source": [
    "# Let's start well\n",
    "\n",
    "- Please try to meet someone new today\n",
    "- Find a teammate or two teammates, maximum team size is 3\n",
    "- Introduce yourselves, even if it is just a hello and a name \n",
    "- Take selfie/grelfie/usie"
   ]
  },
  {
   "cell_type": "markdown",
   "metadata": {
    "slideshow": {
     "slide_type": "slide"
    }
   },
   "source": [
    "# Jupyter Lab & Notebook\n",
    "\n",
    "- There are many ways to run Python. \n",
    "- You can run it directly in the Python interpreter in interactive mode. This is generally not recommended for doing anything other than checking a few values or expressions.  \n",
    "![Image](python1.png)\n",
    "\n"
   ]
  },
  {
   "cell_type": "markdown",
   "metadata": {
    "slideshow": {
     "slide_type": "slide"
    }
   },
   "source": [
    "# Jupyter Lab & Notebook (cont'd)\n",
    "\n",
    "- Another option is to use any reasonable text editor to write scripts and to run the scripts from the command line.  \n",
    "\n",
    "- Yep, sometimes I use RStudio... (BTW I can source it there too)\n",
    "\n",
    "![Image](python2.png)\n"
   ]
  },
  {
   "cell_type": "markdown",
   "metadata": {
    "slideshow": {
     "slide_type": "slide"
    }
   },
   "source": [
    "## Jupyter Lab & Notebook (cont'd)\n",
    "\n",
    "- A superior choice is Jupyter Lab, just create a new file or new launcher (to see your choices)\n",
    "\n",
    "![Image](python3.png)\n"
   ]
  },
  {
   "cell_type": "markdown",
   "metadata": {
    "slideshow": {
     "slide_type": "slide"
    }
   },
   "source": [
    "## Jupyter Lab & Notebook (cont'd)\n",
    "\n",
    "- Choose Python file\n",
    "\n",
    "![Image](python4.png)\n"
   ]
  },
  {
   "cell_type": "markdown",
   "metadata": {
    "jp-MarkdownHeadingCollapsed": true,
    "slideshow": {
     "slide_type": "slide"
    },
    "tags": []
   },
   "source": [
    "## Jupyter Lab & Notebook (cont'd)\n",
    "\n",
    "- Start typing and save it as you would any other file, the .py will be added\n",
    "\n",
    "![Image](python5.png)\n"
   ]
  },
  {
   "cell_type": "markdown",
   "metadata": {
    "slideshow": {
     "slide_type": "slide"
    }
   },
   "source": [
    "## Jupyter Lab & Notebook (cont'd)\n",
    "\n",
    "Others use an integrated development environment (IDE) like PyCharm.\n",
    "\n",
    "![PyCharm](https://www.jetbrains.com/pycharm/img/screenshots/simpleLook@2x.jpg)"
   ]
  },
  {
   "cell_type": "markdown",
   "metadata": {
    "slideshow": {
     "slide_type": "slide"
    },
    "tags": []
   },
   "source": [
    "## Jupyter Lab & Notebook (cont'd)\n",
    "\n",
    "- Jupyter Lab is an browser-based IDE centered around Notebooks. \n",
    "- Jupyter Notebooks combine markdown and Python code to create a document, like an R Markdown file \n",
    "- It is a popular choice for data science work.\n",
    "\n",
    "- Jupyter comes pre-installed with the Anaconda distribution. \n",
    "- You can launch Jupyter Lab from the shell prompt by typing in `jupyter lab` . \n",
    "- Alternatively, you can launch Jupyter Notebook alone with `jupyter notebook`"
   ]
  },
  {
   "cell_type": "markdown",
   "metadata": {
    "slideshow": {
     "slide_type": "slide"
    },
    "tags": []
   },
   "source": [
    "<h1>Stat 21 teams </h1>\n",
    "<h3 style='color:white; font-weight: 800;  '>-Let's take a moment talk about it </h3>\n",
    "<h3 style='color:white;  font-weight: 800;  '>-What do you like to use to edit scripts and why? (convenience? features?) </h3>\n",
    "<h3 style='color:white ; font-weight: 800;  '>-Listen to what your teammates have to say. </h3>\n",
    "<h3 style='color:white;  font-weight: 800;  '>-Then summarize your team's opinion in a few sentences or even one sentence. </h3>\n",
    "<h3 style='color:white;  font-weight: 800;  '>-TIf you want to summarize it a Jupyter Notebook, that would be cool and good practice.</h3>\n",
    "<h3 style='color:white ; font-weight: 800;  '>- Upload your team photograph and your opinion statement to Bruin Learn before 11:59pm</h3>"
   ]
  },
  {
   "cell_type": "raw",
   "metadata": {
    "slideshow": {
     "slide_type": "-"
    },
    "tags": []
   },
   "source": [
    "<script>\n",
    "    setBackgroundImage(\"Window1.JPG\");\n",
    "</script>"
   ]
  },
  {
   "cell_type": "markdown",
   "metadata": {
    "slideshow": {
     "slide_type": "slide"
    }
   },
   "source": [
    "# Jupyter has two modes: \n",
    "\n",
    "## command mode\n",
    "\n",
    "- Type `Esc` to enter command mode\n",
    "\n",
    "## edit mode\n",
    "\n",
    "- Type `Enter`/`Return` to enter edit mode\n",
    "\n",
    "### Try to avoid mixing up command mode and edit mode (frustrating and unproductive)"
   ]
  },
  {
   "cell_type": "markdown",
   "metadata": {
    "slideshow": {
     "slide_type": "slide"
    },
    "tags": []
   },
   "source": [
    "# Keyboard Shortcuts\n",
    "\n",
    "- We encourage you to learn and use the keyboard shortcuts if you want to gain speed and proficiency. \n",
    "- Try to do as much as you can without touching your mouse or trackpad.\n",
    "\n",
    "## Adding Cells (command mode)\n",
    "\n",
    "- Type **b** to add a new cell below your current cell.\n",
    "- Type **a** to add a new cell above your current cell.\n",
    "\n",
    "## Deleting Cells (command mode)\n",
    "\n",
    "- Type **dd** to delete a cell. That is type the letter d twice."
   ]
  },
  {
   "cell_type": "markdown",
   "metadata": {
    "slideshow": {
     "slide_type": "slide"
    }
   },
   "source": [
    "## Keyboard Shortcuts (cont'd)\n",
    "\n",
    "## Cut, Copy, Paste (command mode)\n",
    "\n",
    "While you have a cell selected in command mode, you can use\n",
    "- **x** to cut\n",
    "- **c** to copy\n",
    "- **v** to paste (it will paste the cell below the selected cell)\n",
    "\n",
    "Don't hold ctrl, just type the letter."
   ]
  },
  {
   "cell_type": "markdown",
   "metadata": {
    "slideshow": {
     "slide_type": "slide"
    }
   },
   "source": [
    "# Navigating (command mode)\n",
    "\n",
    "- You can use the up or down arrows to switch cells.\n",
    "- If you don't want to leave your home row, you can also use **j or k** to move up and down."
   ]
  },
  {
   "cell_type": "markdown",
   "metadata": {
    "slideshow": {
     "slide_type": "slide"
    }
   },
   "source": [
    "# Jupyter has three types of cells:\n",
    "- Markdown Cells\n",
    "    - used for text\n",
    "- Code Cells\n",
    "    - used to run code\n",
    "- raw cells (used infrequently)\n",
    "\n",
    "While in command mode, you can convert a cell to markdown by typing **m** \n",
    "\n",
    "You can convert a cell to code by typing **y**"
   ]
  },
  {
   "cell_type": "markdown",
   "metadata": {
    "slideshow": {
     "slide_type": "slide"
    }
   },
   "source": [
    "# heading level 1 starts with `#`\n",
    "## heading level 2 starts with `##`\n",
    "### heading level 3 starts with `###`\n",
    "#### heading level 4 starts with `####`\n",
    "##### heading level 5 starts with `#####`\n",
    "###### heading level 6 starts wit h `######` \n",
    "####### if you try to use 7  `#` symbols, it becomes normal text"
   ]
  },
  {
   "cell_type": "markdown",
   "metadata": {
    "slideshow": {
     "slide_type": "slide"
    }
   },
   "source": [
    "# Markdown basics\n",
    "\n",
    "https://commonmark.org/help/tutorial/\n",
    "\n",
    "\n",
    "Use # symbols to indicate headings. \n",
    "~~~\n",
    "# When rendered, this would be a top level heading.\n",
    "~~~\n",
    "Make bulleted lists by using hyphens\n",
    "~~~\n",
    "- item 1\n",
    "- item 2\n",
    "~~~"
   ]
  },
  {
   "cell_type": "markdown",
   "metadata": {
    "slideshow": {
     "slide_type": "slide"
    }
   },
   "source": [
    "## Markdown basics (cont'd)\n",
    "\n",
    "- If you want to include code, you can indicate to markdown not to render by using the back\n",
    "accent  \\` and the beginning and \n",
    "end of one line, or use three tildes ~ to indicate a code chunk.\n",
    "\n",
    "- Use asterisks * for emphasis. \n",
    "Put on asterisk around a word or phrase to *italicize* it. \n",
    "Use two asterisks to make it **bold** ."
   ]
  },
  {
   "cell_type": "markdown",
   "metadata": {
    "slideshow": {
     "slide_type": "slide"
    }
   },
   "source": [
    "## Markdown basics (cont'd)\n",
    "\n",
    "- Include math by using dollar signs. One dollar sign for in-line math symbols. Two dollar signs for stand-alone math equations.\n",
    "\n",
    "- For example, you can talk about $\\pi$ typed `$\\pi$` using in-line math.\n",
    "\n",
    "- You write a simple equation like\n",
    "\n",
    "~~~\n",
    "$$E = mc^2$$\n",
    "~~~\n",
    "\n",
    "- Result:\n",
    "\n",
    "$$E = mc^2$$\n"
   ]
  },
  {
   "cell_type": "markdown",
   "metadata": {
    "slideshow": {
     "slide_type": "slide"
    }
   },
   "source": [
    "## Markdown basics (cont'd)\n",
    "\n",
    "Or write a more complex equation like:\n",
    "~~~\n",
    "$$\\phi(x) = \\frac{1}{\\sigma \\sqrt{2 \\pi}} \\exp{ \n",
    "    \\left( \\frac{-1}{2} \\left ( \\frac{x - \\mu}{\\sigma} \\right )^2 \\right)} $$\n",
    "~~~\n",
    "\n",
    "Result:\n",
    "\n",
    "$$\\phi(x) = \\frac{1}{\\sigma \\sqrt{2 \\pi}} \\exp{ \n",
    "    \\left( \\frac{-1}{2} \\left ( \\frac{x - \\mu}{\\sigma} \\right )^2 \\right)} $$"
   ]
  },
  {
   "cell_type": "markdown",
   "metadata": {
    "slideshow": {
     "slide_type": "slide"
    }
   },
   "source": [
    "## Running or Rendering Cells\n",
    "\n",
    "- You can run a code cell with **Shift+Enter**. This will run the selected cell and then advance to the next cell. If you are at the last cell, it will insert another cell below it.\n",
    "\n",
    "- If you want to run the current cell but do not want to advance to the next cell, use **Ctrl+Enter**. This will run the currently selected cell only.\n",
    "\n",
    "- **Alt-Enter** or **Option+Enter** renders/runs the current cell and inserts a new cell below it."
   ]
  },
  {
   "cell_type": "markdown",
   "metadata": {
    "slideshow": {
     "slide_type": "slide"
    }
   },
   "source": [
    "# IPython - interactive\n",
    "\n",
    "Jupyter runs on IPython. As you write code in a code cell, you can use some of the features of IPython.  Some basic ones:"
   ]
  },
  {
   "cell_type": "code",
   "execution_count": 1,
   "metadata": {
    "cell_style": "split",
    "slideshow": {
     "slide_type": "fragment"
    }
   },
   "outputs": [
    {
     "data": {
      "text/plain": [
       "5"
      ]
     },
     "execution_count": 1,
     "metadata": {},
     "output_type": "execute_result"
    }
   ],
   "source": [
    "2 + 3"
   ]
  },
  {
   "cell_type": "code",
   "execution_count": 2,
   "metadata": {
    "cell_style": "center",
    "slideshow": {
     "slide_type": "fragment"
    }
   },
   "outputs": [
    {
     "data": {
      "text/plain": [
       "25"
      ]
     },
     "execution_count": 2,
     "metadata": {},
     "output_type": "execute_result"
    }
   ],
   "source": [
    "# BUT if you have multiple operations...\n",
    "4 + 5\n",
    "5 * 5"
   ]
  },
  {
   "cell_type": "markdown",
   "metadata": {
    "slideshow": {
     "slide_type": "slide"
    }
   },
   "source": [
    "## IPython (cont'd)\n",
    "\n",
    "if you want the other results to appear, you need to use print() commands to display:\n"
   ]
  },
  {
   "cell_type": "code",
   "execution_count": 3,
   "metadata": {
    "slideshow": {
     "slide_type": "fragment"
    }
   },
   "outputs": [
    {
     "name": "stdout",
     "output_type": "stream",
     "text": [
      "9\n",
      "25\n"
     ]
    }
   ],
   "source": [
    "print(4 + 5)\n",
    "print(5 * 5)"
   ]
  },
  {
   "cell_type": "markdown",
   "metadata": {
    "slideshow": {
     "slide_type": "fragment"
    },
    "tags": []
   },
   "source": [
    "note that when you do this, notice there is no `Out[ ]` for the cell.  Why this matters --"
   ]
  },
  {
   "cell_type": "markdown",
   "metadata": {
    "slideshow": {
     "slide_type": "slide"
    }
   },
   "source": [
    "# Features of IPython: The In and Out\n",
    "\n",
    "- IPython cells are preceeded by an `In[n]` or an `Out[n]`.\n",
    "\n",
    "- These show the sequence you write code, but also allows you to access past entries and values"
   ]
  },
  {
   "cell_type": "code",
   "execution_count": 4,
   "metadata": {
    "slideshow": {
     "slide_type": "fragment"
    }
   },
   "outputs": [
    {
     "data": {
      "text/plain": [
       "'2 + 3'"
      ]
     },
     "execution_count": 4,
     "metadata": {},
     "output_type": "execute_result"
    }
   ],
   "source": [
    "In[1]"
   ]
  },
  {
   "cell_type": "markdown",
   "metadata": {
    "slideshow": {
     "slide_type": "slide"
    }
   },
   "source": [
    "## Features of IPython: The In and Out (cont'd):"
   ]
  },
  {
   "cell_type": "code",
   "execution_count": 5,
   "metadata": {
    "slideshow": {
     "slide_type": "fragment"
    }
   },
   "outputs": [
    {
     "name": "stdout",
     "output_type": "stream",
     "text": [
      "25\n",
      "25\n"
     ]
    }
   ],
   "source": [
    "print(Out[2])\n",
    "print(Out.get(2)) "
   ]
  },
  {
   "cell_type": "markdown",
   "metadata": {
    "slideshow": {
     "slide_type": "slide"
    }
   },
   "source": [
    "## Features of IPython: The In and Out (cont'd):\n",
    "\n",
    "Out is a dictionary (more on these later in the quarter)"
   ]
  },
  {
   "cell_type": "code",
   "execution_count": 6,
   "metadata": {
    "slideshow": {
     "slide_type": "fragment"
    }
   },
   "outputs": [
    {
     "name": "stdout",
     "output_type": "stream",
     "text": [
      "<class 'dict'>\n"
     ]
    },
    {
     "data": {
      "text/plain": [
       "{1: 5, 2: 25, 4: '2 + 3'}"
      ]
     },
     "execution_count": 6,
     "metadata": {},
     "output_type": "execute_result"
    }
   ],
   "source": [
    "print(type(Out))\n",
    "Out"
   ]
  },
  {
   "cell_type": "markdown",
   "metadata": {
    "slideshow": {
     "slide_type": "slide"
    }
   },
   "source": [
    "## Features of IPython: The In and Out (cont'd):\n",
    "\n",
    "In is a list (more on these in a week or so):\n"
   ]
  },
  {
   "cell_type": "code",
   "execution_count": 7,
   "metadata": {
    "slideshow": {
     "slide_type": "fragment"
    }
   },
   "outputs": [
    {
     "name": "stdout",
     "output_type": "stream",
     "text": [
      "<class 'list'>\n"
     ]
    },
    {
     "data": {
      "text/plain": [
       "['',\n",
       " '2 + 3',\n",
       " '# BUT if you have multiple operations...\\n4 + 5\\n5 * 5',\n",
       " 'print(4 + 5)\\nprint(5 * 5)',\n",
       " 'In[1]',\n",
       " 'print(Out[2])\\nprint(Out.get(2)) ',\n",
       " 'print(type(Out))\\nOut',\n",
       " 'print(type(In))\\nIn']"
      ]
     },
     "execution_count": 7,
     "metadata": {},
     "output_type": "execute_result"
    }
   ],
   "source": [
    "print(type(In))\n",
    "In"
   ]
  },
  {
   "cell_type": "markdown",
   "metadata": {
    "slideshow": {
     "slide_type": "slide"
    }
   },
   "source": [
    "# &ldquo;math operations\" with strings\n",
    "\n",
    "multiplication repeats the string"
   ]
  },
  {
   "cell_type": "code",
   "execution_count": 8,
   "metadata": {
    "slideshow": {
     "slide_type": "fragment"
    }
   },
   "outputs": [
    {
     "data": {
      "text/plain": [
       "'hello!hello!hello!'"
      ]
     },
     "execution_count": 8,
     "metadata": {},
     "output_type": "execute_result"
    }
   ],
   "source": [
    "3 * 'hello!'"
   ]
  },
  {
   "cell_type": "markdown",
   "metadata": {
    "slideshow": {
     "slide_type": "slide"
    }
   },
   "source": [
    "##  more &ldquo;math operations\" with strings\n",
    "\n",
    "addition concatenates strings"
   ]
  },
  {
   "cell_type": "code",
   "execution_count": 9,
   "metadata": {
    "slideshow": {
     "slide_type": "fragment"
    }
   },
   "outputs": [
    {
     "data": {
      "text/plain": [
       "'hibye'"
      ]
     },
     "execution_count": 9,
     "metadata": {},
     "output_type": "execute_result"
    }
   ],
   "source": [
    "\"hi\" + \"bye\""
   ]
  },
  {
   "cell_type": "markdown",
   "metadata": {
    "slideshow": {
     "slide_type": "slide"
    }
   },
   "source": [
    "# Executing Scripts from within Jupyter\n",
    "\n",
    "You can use the `%run` (a function special to iPython, the `%` sets it apart) to execute python scripts stored in separate files.\n",
    "For example, I have a simple script that simply prints hello world stored in a script"
   ]
  },
  {
   "cell_type": "code",
   "execution_count": 1,
   "metadata": {
    "slideshow": {
     "slide_type": "fragment"
    }
   },
   "outputs": [
    {
     "name": "stdout",
     "output_type": "stream",
     "text": [
      "hello world\n"
     ]
    }
   ],
   "source": [
    "%run My01.py"
   ]
  },
  {
   "cell_type": "markdown",
   "metadata": {
    "slideshow": {
     "slide_type": "slide"
    }
   },
   "source": [
    "## Accessing variables defined in the notebook:\n",
    "\n",
    "If you want the script to have access to variables that you have defined in the notebook,  so here we define a url "
   ]
  },
  {
   "cell_type": "code",
   "execution_count": 11,
   "metadata": {
    "slideshow": {
     "slide_type": "fragment"
    }
   },
   "outputs": [
    {
     "name": "stdout",
     "output_type": "stream",
     "text": [
      "https://www.youtube.com/watch?v=LStXdttFj_o\n"
     ]
    }
   ],
   "source": [
    "url = 'https://www.youtube.com/watch?v=LStXdttFj_o'\n",
    "print(url)"
   ]
  },
  {
   "cell_type": "markdown",
   "metadata": {
    "slideshow": {
     "slide_type": "slide"
    }
   },
   "source": [
    "## Accessing variables defined in the notebook (cont'd):\n",
    "\n",
    "Then use `%run -i` when accessing a .py script on your drive - see what happens when I don't do the right thing:\n",
    "(note, My02.py needs the Python library pytube to run)"
   ]
  },
  {
   "cell_type": "code",
   "execution_count": 12,
   "metadata": {
    "slideshow": {
     "slide_type": "fragment"
    }
   },
   "outputs": [
    {
     "ename": "NameError",
     "evalue": "name 'url' is not defined",
     "output_type": "error",
     "traceback": [
      "\u001b[0;31m---------------------------------------------------------------------------\u001b[0m",
      "\u001b[0;31mNameError\u001b[0m                                 Traceback (most recent call last)",
      "\u001b[0;32m~/Desktop/SP22STAT21/WEEK01/Lecture 3/My02.py\u001b[0m in \u001b[0;36m<module>\u001b[0;34m\u001b[0m\n\u001b[1;32m      6\u001b[0m \u001b[0;32mimport\u001b[0m \u001b[0mpytube\u001b[0m\u001b[0;34m\u001b[0m\u001b[0;34m\u001b[0m\u001b[0m\n\u001b[1;32m      7\u001b[0m \u001b[0;34m\u001b[0m\u001b[0m\n\u001b[0;32m----> 8\u001b[0;31m \u001b[0mpytube\u001b[0m\u001b[0;34m.\u001b[0m\u001b[0mYouTube\u001b[0m\u001b[0;34m(\u001b[0m\u001b[0murl\u001b[0m\u001b[0;34m)\u001b[0m\u001b[0;34m.\u001b[0m\u001b[0mstreams\u001b[0m\u001b[0;34m.\u001b[0m\u001b[0mget_highest_resolution\u001b[0m\u001b[0;34m(\u001b[0m\u001b[0;34m)\u001b[0m\u001b[0;34m.\u001b[0m\u001b[0mdownload\u001b[0m\u001b[0;34m(\u001b[0m\u001b[0;34m)\u001b[0m\u001b[0;34m\u001b[0m\u001b[0;34m\u001b[0m\u001b[0m\n\u001b[0m\u001b[1;32m      9\u001b[0m \u001b[0;34m\u001b[0m\u001b[0m\n\u001b[1;32m     10\u001b[0m \u001b[0;34m\u001b[0m\u001b[0m\n",
      "\u001b[0;31mNameError\u001b[0m: name 'url' is not defined"
     ]
    }
   ],
   "source": [
    "%run My02.py"
   ]
  },
  {
   "cell_type": "markdown",
   "metadata": {
    "slideshow": {
     "slide_type": "slide"
    }
   },
   "source": [
    "## Accessing variables defined in the notebook (cont'd):\n",
    "\n",
    "The correct way (there is no NameError thrown (we'll learn about the different ones) and our YouTube video is downloaded.):"
   ]
  },
  {
   "cell_type": "code",
   "execution_count": 13,
   "metadata": {
    "slideshow": {
     "slide_type": "fragment"
    }
   },
   "outputs": [],
   "source": [
    "%run -i My02.py"
   ]
  },
  {
   "cell_type": "markdown",
   "metadata": {
    "slideshow": {
     "slide_type": "slide"
    },
    "tags": []
   },
   "source": [
    "## Proof"
   ]
  },
  {
   "cell_type": "code",
   "execution_count": 14,
   "metadata": {
    "slideshow": {
     "slide_type": "fragment"
    },
    "tags": []
   },
   "outputs": [
    {
     "data": {
      "text/html": [
       "<video src=\"GoPro Swimming with Dolphins - Santa Cruz CA.mp4\" controls  >\n",
       "      Your browser does not support the <code>video</code> element.\n",
       "    </video>"
      ],
      "text/plain": [
       "<IPython.core.display.Video object>"
      ]
     },
     "execution_count": 14,
     "metadata": {},
     "output_type": "execute_result"
    }
   ],
   "source": [
    "from IPython.display import Video\n",
    "Video(\"GoPro Swimming with Dolphins - Santa Cruz CA.mp4\")"
   ]
  },
  {
   "cell_type": "markdown",
   "metadata": {
    "slideshow": {
     "slide_type": "slide"
    },
    "tags": []
   },
   "source": [
    "<h1>Stat 21 teams </h1>\n",
    "<h3 style='color:white; font-weight: 800;  '> - Let's take a moment talk about Python libraries/packages/modules informally</h3>\n",
    "<h3 style='color:white;  font-weight: 800;  '> - Turn to your teammate(s) and find out if the teammate has experience installing libraries </h3>\n",
    "<h3 style='color:white ; font-weight: 800;  '> - Listen to what your teammates have to say. </h3>\n",
    "<h3 style='color:white;  font-weight: 800;  '> - As a class Let's talk about installation informally </h3>\n"
   ]
  },
  {
   "cell_type": "raw",
   "metadata": {
    "slideshow": {
     "slide_type": "-"
    },
    "tags": []
   },
   "source": [
    "<script>\n",
    "    setBackgroundImage(\"Window1.JPG\");\n",
    "</script>"
   ]
  },
  {
   "cell_type": "markdown",
   "metadata": {
    "slideshow": {
     "slide_type": "slide"
    }
   },
   "source": [
    "## Using bash/shell/cmd commands within a jupyter notebook\n",
    "\n",
    "You can use bash commands like `cat` which displays the contents of a file by preceeding the command with an exclamation point.\n",
    "The commands you can use will be different for windows or unix based (mac) machines. For example, there is no `cat` command in windows, and you must use `type`"
   ]
  },
  {
   "cell_type": "code",
   "execution_count": 15,
   "metadata": {
    "slideshow": {
     "slide_type": "fragment"
    }
   },
   "outputs": [
    {
     "name": "stdout",
     "output_type": "stream",
     "text": [
      "# Download a YouTube video\n",
      "# need to install pytube for this to run\n",
      "# suggest trying it first in a virtual environment\n",
      "# will ask for input of a url\n",
      "\n",
      "import pytube\n",
      "\n",
      "pytube.YouTube(url).streams.get_highest_resolution().download()\n",
      "\n",
      "\n"
     ]
    }
   ],
   "source": [
    "!cat My02.py # Mac OS"
   ]
  },
  {
   "cell_type": "markdown",
   "metadata": {
    "slideshow": {
     "slide_type": "slide"
    }
   },
   "source": [
    "## Using bash/shell/cmd commands within a jupyter notebook (cont'd):\n",
    "\n",
    "- If you are using Windows, use the `type` command instead:"
   ]
  },
  {
   "cell_type": "markdown",
   "metadata": {
    "slideshow": {
     "slide_type": "fragment"
    }
   },
   "source": [
    "!type My02.py # Windows"
   ]
  },
  {
   "cell_type": "markdown",
   "metadata": {
    "slideshow": {
     "slide_type": "slide"
    }
   },
   "source": [
    "## The last output value\n",
    "\n",
    "You can access the last value output using a single underscore character _"
   ]
  },
  {
   "cell_type": "code",
   "execution_count": 16,
   "metadata": {
    "slideshow": {
     "slide_type": "fragment"
    }
   },
   "outputs": [
    {
     "data": {
      "text/plain": [
       "27"
      ]
     },
     "execution_count": 16,
     "metadata": {},
     "output_type": "execute_result"
    }
   ],
   "source": [
    "3 * 9"
   ]
  },
  {
   "cell_type": "code",
   "execution_count": 17,
   "metadata": {
    "slideshow": {
     "slide_type": "fragment"
    }
   },
   "outputs": [
    {
     "data": {
      "text/plain": [
       "25"
      ]
     },
     "execution_count": 17,
     "metadata": {},
     "output_type": "execute_result"
    }
   ],
   "source": [
    "_ - 2"
   ]
  },
  {
   "cell_type": "code",
   "execution_count": 18,
   "metadata": {
    "slideshow": {
     "slide_type": "fragment"
    }
   },
   "outputs": [
    {
     "data": {
      "text/plain": [
       "25"
      ]
     },
     "execution_count": 18,
     "metadata": {},
     "output_type": "execute_result"
    }
   ],
   "source": [
    "_"
   ]
  },
  {
   "cell_type": "markdown",
   "metadata": {
    "slideshow": {
     "slide_type": "slide"
    }
   },
   "source": [
    "## Help"
   ]
  },
  {
   "cell_type": "code",
   "execution_count": 19,
   "metadata": {
    "slideshow": {
     "slide_type": "fragment"
    }
   },
   "outputs": [
    {
     "name": "stdout",
     "output_type": "stream",
     "text": [
      "Help on built-in function print in module builtins:\n",
      "\n",
      "print(...)\n",
      "    print(value, ..., sep=' ', end='\\n', file=sys.stdout, flush=False)\n",
      "    \n",
      "    Prints the values to a stream, or to sys.stdout by default.\n",
      "    Optional keyword arguments:\n",
      "    file:  a file-like object (stream); defaults to the current sys.stdout.\n",
      "    sep:   string inserted between values, default a space.\n",
      "    end:   string appended after the last value, default a newline.\n",
      "    flush: whether to forcibly flush the stream.\n",
      "\n"
     ]
    }
   ],
   "source": [
    "help(print)"
   ]
  },
  {
   "cell_type": "markdown",
   "metadata": {
    "slideshow": {
     "slide_type": "slide"
    }
   },
   "source": [
    "# Important Notes about Python Syntax\n",
    "##### based on A Whirlwind Tour of Python by Jake VanderPlas\n",
    "### Comments Are Marked by `#`"
   ]
  },
  {
   "cell_type": "code",
   "execution_count": 20,
   "metadata": {
    "slideshow": {
     "slide_type": "fragment"
    }
   },
   "outputs": [],
   "source": [
    "# this is a comment and is not run"
   ]
  },
  {
   "cell_type": "markdown",
   "metadata": {
    "slideshow": {
     "slide_type": "slide"
    }
   },
   "source": [
    "## Lines\n",
    "The end of a line terminates a statement. No need for using a semi-colon to end a statement ; although you can optionally use the semi-colon to write two statements in one line.\n"
   ]
  },
  {
   "cell_type": "code",
   "execution_count": 21,
   "metadata": {
    "slideshow": {
     "slide_type": "fragment"
    }
   },
   "outputs": [
    {
     "name": "stdout",
     "output_type": "stream",
     "text": [
      "5\n"
     ]
    }
   ],
   "source": [
    "# example\n",
    "x = 5\n",
    "print(x)"
   ]
  },
  {
   "cell_type": "markdown",
   "metadata": {
    "slideshow": {
     "slide_type": "slide"
    }
   },
   "source": [
    "## Lines\n",
    "If you want to have a single statement cover multiple lines, you can use a backslash \\ or encase the statement in parenthesis. If you are defining a list or other data structure that already uses some sort of bracket, this is handled automatically."
   ]
  },
  {
   "cell_type": "code",
   "execution_count": 22,
   "metadata": {
    "slideshow": {
     "slide_type": "fragment"
    }
   },
   "outputs": [
    {
     "name": "stdout",
     "output_type": "stream",
     "text": [
      "13\n"
     ]
    }
   ],
   "source": [
    "# semicolon to include multiple statements in one line\n",
    "y = 6; z = 7\n",
    "print(y + z)"
   ]
  },
  {
   "cell_type": "markdown",
   "metadata": {
    "slideshow": {
     "slide_type": "fragment"
    }
   },
   "source": [
    "Having multiple statements in one line is generally considered bad style and should be avoided."
   ]
  },
  {
   "cell_type": "markdown",
   "metadata": {
    "slideshow": {
     "slide_type": "slide"
    }
   },
   "source": [
    "## Lines\n",
    "We use the backslash or parentheses or in certain cases brackets to continue a statement over multiple lines\n"
   ]
  },
  {
   "cell_type": "code",
   "execution_count": 23,
   "metadata": {
    "slideshow": {
     "slide_type": "fragment"
    }
   },
   "outputs": [
    {
     "name": "stdout",
     "output_type": "stream",
     "text": [
      "15\n"
     ]
    }
   ],
   "source": [
    "a = 1 + 2 + 3 \\\n",
    "    + 4 + 5\n",
    "print(a)"
   ]
  },
  {
   "cell_type": "code",
   "execution_count": 24,
   "metadata": {
    "slideshow": {
     "slide_type": "fragment"
    }
   },
   "outputs": [
    {
     "name": "stdout",
     "output_type": "stream",
     "text": [
      "15\n"
     ]
    }
   ],
   "source": [
    "# or use parenthesis\n",
    "b = (1 + 2 + 3\n",
    "    + 4 + 5)\n",
    "print(b)"
   ]
  },
  {
   "cell_type": "markdown",
   "metadata": {
    "slideshow": {
     "slide_type": "slide"
    },
    "tags": []
   },
   "source": [
    "### Lines (cont'd)\n",
    "\n",
    "But some data structures (list here) usse a comma to continue over multiple lines:"
   ]
  },
  {
   "cell_type": "code",
   "execution_count": 25,
   "metadata": {
    "slideshow": {
     "slide_type": "fragment"
    }
   },
   "outputs": [
    {
     "name": "stdout",
     "output_type": "stream",
     "text": [
      "['a', 2, 3, 'd', 'e', 6, 'b']\n"
     ]
    }
   ],
   "source": [
    "l = ['a', 2, 3, 'd',\n",
    "    'e', 6, \n",
    "    'b']\n",
    "print(l)"
   ]
  },
  {
   "cell_type": "markdown",
   "metadata": {
    "slideshow": {
     "slide_type": "slide"
    }
   },
   "source": [
    "### (Important) Indentation defines code blocks\n",
    "\n",
    "- Python does not use curly braces `{}` to define code blocks.\n",
    "- IPython is smart enough to automatically indent lines after you use a colon `:` which indicates that the following lines are part of a code block.\n",
    "\n",
    "- We haven't covered conditionals yet, but I'll introduce them here briefly to show how code blocks work."
   ]
  },
  {
   "cell_type": "code",
   "execution_count": 26,
   "metadata": {
    "slideshow": {
     "slide_type": "fragment"
    }
   },
   "outputs": [
    {
     "name": "stdout",
     "output_type": "stream",
     "text": [
      "x is greater than 5\n",
      "8\n",
      "hello\n"
     ]
    }
   ],
   "source": [
    "# we will learn if statements later, but here's an example\n",
    "x = 8\n",
    "if(x > 5):\n",
    "    print('x is greater than 5')   # the two indented lines only run \n",
    "    print(x)                       # when the if statement is true\n",
    "print('hello')    # this line is not indented and will run regardless of if statement"
   ]
  },
  {
   "cell_type": "code",
   "execution_count": 27,
   "metadata": {
    "slideshow": {
     "slide_type": "slide"
    }
   },
   "outputs": [
    {
     "name": "stdout",
     "output_type": "stream",
     "text": [
      "hello\n"
     ]
    }
   ],
   "source": [
    "x = 4\n",
    "if(x > 5):\n",
    "    print('x is greater than 5')   # the two indented lines only run \n",
    "    print(x)                       # when the if statement is true\n",
    "print('hello')    # this line is not indented and will run regardless of if statement"
   ]
  },
  {
   "cell_type": "code",
   "execution_count": 28,
   "metadata": {
    "scrolled": true,
    "slideshow": {
     "slide_type": "slide"
    }
   },
   "outputs": [
    {
     "name": "stdout",
     "output_type": "stream",
     "text": [
      "4\n",
      "hello\n"
     ]
    }
   ],
   "source": [
    "x = 4\n",
    "if(x > 5):\n",
    "    print('x is greater than 5')\n",
    "print(x)\n",
    "print('hello')"
   ]
  },
  {
   "cell_type": "markdown",
   "metadata": {
    "slideshow": {
     "slide_type": "slide"
    },
    "tags": []
   },
   "source": [
    "<h1> Statistics 21 <br/> Have an awesome weekend! </h1>"
   ]
  },
  {
   "cell_type": "raw",
   "metadata": {
    "slideshow": {
     "slide_type": "-"
    },
    "tags": []
   },
   "source": [
    "<script>\n",
    "    setBackgroundImage(\"Window1.JPG\");\n",
    "</script>"
   ]
  },
  {
   "cell_type": "code",
   "execution_count": 29,
   "metadata": {
    "slideshow": {
     "slide_type": "skip"
    },
    "tags": []
   },
   "outputs": [],
   "source": [
    "# jupyter nbconvert --no-prompt --to script Week_1-3.ipynb;\n",
    "# jupyter nbconvert --to slides --no-input Week_1-3.ipynb ;\n",
    "# jupyter nbconvert --to slides Week_1-3.ipynb ;"
   ]
  },
  {
   "cell_type": "code",
   "execution_count": 30,
   "metadata": {
    "slideshow": {
     "slide_type": "skip"
    },
    "tags": []
   },
   "outputs": [],
   "source": [
    "#lsmagic();"
   ]
  }
 ],
 "metadata": {
  "authors": [
   {
    "name": "Vivian Lew"
   }
  ],
  "celltoolbar": "Slideshow",
  "kernelspec": {
   "display_name": "Python 3 (ipykernel)",
   "language": "python",
   "name": "python3"
  },
  "language_info": {
   "codemirror_mode": {
    "name": "ipython",
    "version": 3
   },
   "file_extension": ".py",
   "mimetype": "text/x-python",
   "name": "python",
   "nbconvert_exporter": "python",
   "pygments_lexer": "ipython3",
   "version": "3.9.7"
  },
  "title": "Week 1-3"
 },
 "nbformat": 4,
 "nbformat_minor": 4
}
