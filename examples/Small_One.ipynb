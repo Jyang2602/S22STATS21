{
 "cells": [
  {
   "cell_type": "markdown",
   "id": "d31596e8-fcc9-4ae0-a0bd-28cfb8b8ef78",
   "metadata": {
    "slideshow": {
     "slide_type": "slide"
    },
    "tags": []
   },
   "source": [
    "# A Small Slideshow "
   ]
  },
  {
   "cell_type": "markdown",
   "id": "6dc0e011-64d9-44eb-8eb6-2b97a16c09c8",
   "metadata": {
    "slideshow": {
     "slide_type": "slide"
    },
    "tags": []
   },
   "source": [
    "## Little Bullets\n",
    "\n",
    "- Level 1\n",
    "    + Level 2\n",
    "        * Level 3 with asterisk\n",
    "        - Level 3 with hyphen (dash)\n",
    "        + Level 3 with plus\n",
    "        \n",
    "### It's all good"
   ]
  },
  {
   "cell_type": "markdown",
   "id": "8ee6d8ae-31b2-4ab9-976e-259b788f3f31",
   "metadata": {
    "slideshow": {
     "slide_type": "slide"
    },
    "tags": []
   },
   "source": [
    "## Cells with Code\n",
    "\n",
    "- I usually choose fragment as the slide type to include Markdown + code"
   ]
  },
  {
   "cell_type": "code",
   "execution_count": 1,
   "id": "30156862-0b5d-4e3e-904d-198d5868b0b0",
   "metadata": {},
   "outputs": [
    {
     "name": "stdout",
     "output_type": "stream",
     "text": [
      "Hello World!\n"
     ]
    }
   ],
   "source": [
    "print(\"Hello World!\")"
   ]
  },
  {
   "cell_type": "code",
   "execution_count": 2,
   "id": "46d9da92-b748-41dc-9403-81700c8af378",
   "metadata": {
    "slideshow": {
     "slide_type": "fragment"
    },
    "tags": []
   },
   "outputs": [
    {
     "name": "stdout",
     "output_type": "stream",
     "text": [
      "Hello You!\n"
     ]
    }
   ],
   "source": [
    "print(\"Hello You!\")"
   ]
  },
  {
   "cell_type": "markdown",
   "id": "ec34564f-8625-44b8-9b73-f4a2d90ce7ff",
   "metadata": {
    "slideshow": {
     "slide_type": "fragment"
    },
    "tags": []
   },
   "source": [
    "This prints too "
   ]
  },
  {
   "cell_type": "markdown",
   "id": "a36441aa-73c8-472c-bec7-9b0b81dd0b94",
   "metadata": {
    "slideshow": {
     "slide_type": "slide"
    },
    "tags": []
   },
   "source": [
    "## Equations\n",
    "\n",
    "Nothing fancy, just a slide with two version - unevaluated between the ~~~  \n",
    "~~~\n",
    "$$\\phi(x) = \\frac{1}{\\sigma \\sqrt{2 \\pi}} \\exp{ \n",
    "    \\left( \\frac{-1}{2} \\left ( \\frac{x - \\mu}{\\sigma} \\right )^2 \\right)} $$\n",
    "~~~\n",
    "\n",
    "and an evaluated version.\n",
    "\n",
    "Result:\n",
    "\n",
    "$$\\phi(x) = \\frac{1}{\\sigma \\sqrt{2 \\pi}} \\exp{ \n",
    "    \\left( \\frac{-1}{2} \\left ( \\frac{x - \\mu}{\\sigma} \\right )^2 \\right)} $$"
   ]
  },
  {
   "cell_type": "markdown",
   "id": "bf027926-d02f-4d9b-a0e6-41450f73fd09",
   "metadata": {
    "slideshow": {
     "slide_type": "slide"
    },
    "tags": []
   },
   "source": [
    "## Jupyter Launcher\n",
    "\n",
    "Including images...\n",
    "\n",
    "![Image](python3.png)\n"
   ]
  },
  {
   "cell_type": "markdown",
   "id": "f186349d-a880-4dd1-9941-9ad826048f77",
   "metadata": {
    "slideshow": {
     "slide_type": "slide"
    },
    "tags": []
   },
   "source": [
    "## Include video"
   ]
  },
  {
   "cell_type": "code",
   "execution_count": 3,
   "id": "b309c7b4-29c9-4a5d-ad83-b94b30a098ed",
   "metadata": {
    "slideshow": {
     "slide_type": "fragment"
    },
    "tags": []
   },
   "outputs": [
    {
     "data": {
      "text/html": [
       "<video src=\"GoPro Swimming with Dolphins - Santa Cruz CA.mp4\" controls  >\n",
       "      Your browser does not support the <code>video</code> element.\n",
       "    </video>"
      ],
      "text/plain": [
       "<IPython.core.display.Video object>"
      ]
     },
     "execution_count": 3,
     "metadata": {},
     "output_type": "execute_result"
    }
   ],
   "source": [
    "from IPython.display import Video\n",
    "Video(\"GoPro Swimming with Dolphins - Santa Cruz CA.mp4\")"
   ]
  },
  {
   "cell_type": "markdown",
   "id": "437bdad0-2a37-4cb9-8482-9fc7c33f64b4",
   "metadata": {
    "slideshow": {
     "slide_type": "slide"
    },
    "tags": []
   },
   "source": [
    "## IFrame for content from another site"
   ]
  },
  {
   "cell_type": "code",
   "execution_count": 4,
   "id": "3974f3d1-9aa2-4fba-9aa9-6b21b3cdc61d",
   "metadata": {
    "slideshow": {
     "slide_type": "-"
    }
   },
   "outputs": [
    {
     "data": {
      "text/html": [
       "\n",
       "        <iframe\n",
       "            width=\"560\"\n",
       "            height=\"315\"\n",
       "            src=\"https://www.youtube.com/embed/7xMWHYdwSWE\"\n",
       "            frameborder=\"0\"\n",
       "            allowfullscreen\n",
       "            \n",
       "        ></iframe>\n",
       "        "
      ],
      "text/plain": [
       "<IPython.lib.display.IFrame at 0x7fd4ffb4e430>"
      ]
     },
     "execution_count": 4,
     "metadata": {},
     "output_type": "execute_result"
    }
   ],
   "source": [
    "#from IPython.display import HTML\n",
    "from IPython.display import IFrame\n",
    "#HTML('<iframe width=\"560\" height=\"315\" src=\"https://www.youtube.com/embed/7xMWHYdwSWE\" frameborder=\"0\" allowfullscreen></iframe>')\n",
    "IFrame(src=\"https://www.youtube.com/embed/7xMWHYdwSWE\", width=\"560\", height=\"315\")\n",
    "\n",
    "\n",
    "\n",
    "\n"
   ]
  }
 ],
 "metadata": {
  "kernelspec": {
   "display_name": "Python 3 (ipykernel)",
   "language": "python",
   "name": "python3"
  },
  "language_info": {
   "codemirror_mode": {
    "name": "ipython",
    "version": 3
   },
   "file_extension": ".py",
   "mimetype": "text/x-python",
   "name": "python",
   "nbconvert_exporter": "python",
   "pygments_lexer": "ipython3",
   "version": "3.9.7"
  }
 },
 "nbformat": 4,
 "nbformat_minor": 5
}
