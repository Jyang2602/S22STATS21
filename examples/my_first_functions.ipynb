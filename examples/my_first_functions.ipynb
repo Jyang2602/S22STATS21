{
 "cells": [
  {
   "cell_type": "markdown",
   "id": "c5d9492f-fa23-4c5c-80b6-6668d6af0d13",
   "metadata": {},
   "source": [
    "## My first Python Functions"
   ]
  },
  {
   "cell_type": "code",
   "execution_count": 1,
   "id": "cb2bdb36-f9f1-4a5f-a6c4-44d3d75eb0b2",
   "metadata": {},
   "outputs": [],
   "source": [
    "name = \"Vivian\"\n",
    "def the_weather():\n",
    "    print(\"Good morning \" + name)\n",
    "    print(\"It's gonna be a hot one\")"
   ]
  },
  {
   "cell_type": "code",
   "execution_count": 2,
   "id": "603bd7df-21f2-4eec-9d03-34383103ec20",
   "metadata": {},
   "outputs": [
    {
     "name": "stdout",
     "output_type": "stream",
     "text": [
      "Good morning Vivian\n",
      "It's gonna be a hot one\n"
     ]
    }
   ],
   "source": [
    "the_weather()"
   ]
  },
  {
   "cell_type": "markdown",
   "id": "d69641b9-fb0d-4752-962b-3bdc86bb4935",
   "metadata": {},
   "source": [
    "Silly example, yea, but demonstrates global, local, function definition"
   ]
  },
  {
   "cell_type": "code",
   "execution_count": 3,
   "id": "1837383a-3a65-4d52-ae9f-c97e335d4cbf",
   "metadata": {},
   "outputs": [],
   "source": [
    "def the_weather2():\n",
    "    name = \"Vivian Lew\"  \n",
    "    print(\"Good morning \" + name)\n",
    "    print(\"It's gonna be a hot one\")"
   ]
  },
  {
   "cell_type": "code",
   "execution_count": 4,
   "id": "de672c50-ce28-470b-a922-299deff7664a",
   "metadata": {},
   "outputs": [
    {
     "name": "stdout",
     "output_type": "stream",
     "text": [
      "Good morning Vivian Lew\n",
      "It's gonna be a hot one\n"
     ]
    }
   ],
   "source": [
    "the_weather2()"
   ]
  },
  {
   "cell_type": "code",
   "execution_count": 5,
   "id": "4f4ab2ab-5e24-43f0-bb66-5ece13102221",
   "metadata": {},
   "outputs": [
    {
     "name": "stdout",
     "output_type": "stream",
     "text": [
      "Vivian\n"
     ]
    }
   ],
   "source": [
    "print(name) # which one and why?"
   ]
  },
  {
   "cell_type": "markdown",
   "id": "6ddfd735-8f1c-4b4e-8cbf-0da7f96cbffa",
   "metadata": {},
   "source": [
    "We can pass a parameter between the parentheses, call it name, now can easily ues different values. Parameters store values."
   ]
  },
  {
   "cell_type": "code",
   "execution_count": 6,
   "id": "92c984d4-4f23-45bd-8d5e-093145e36154",
   "metadata": {},
   "outputs": [],
   "source": [
    "def the_weather3(name):\n",
    "    print(\"Good morning \" + name)\n",
    "    print(\"It's gonna be a hot one\")"
   ]
  },
  {
   "cell_type": "code",
   "execution_count": 7,
   "id": "81008d58-6dee-4d7c-8ba8-8d74210ebe2f",
   "metadata": {},
   "outputs": [
    {
     "name": "stdout",
     "output_type": "stream",
     "text": [
      "Good morning Vivian Lew\n",
      "It's gonna be a hot one\n"
     ]
    }
   ],
   "source": [
    "the_weather3(\"Vivian Lew\")"
   ]
  },
  {
   "cell_type": "code",
   "execution_count": 8,
   "id": "2179eb7d-4d8b-4c85-ba48-202053127544",
   "metadata": {},
   "outputs": [
    {
     "name": "stdout",
     "output_type": "stream",
     "text": [
      "Good morning UCLA\n",
      "It's gonna be a hot one\n"
     ]
    }
   ],
   "source": [
    "the_weather3(\"UCLA\")"
   ]
  },
  {
   "cell_type": "code",
   "execution_count": 9,
   "id": "4b7ce114-1ea0-4900-bcef-8f350b2cdfad",
   "metadata": {},
   "outputs": [
    {
     "name": "stdout",
     "output_type": "stream",
     "text": [
      "Good morning everybody\n",
      "It's gonna be a hot one\n"
     ]
    }
   ],
   "source": [
    "the_weather3(\"everybody\")"
   ]
  },
  {
   "cell_type": "markdown",
   "id": "60f084b1-cc90-4389-866e-ee419bad1ee6",
   "metadata": {},
   "source": [
    "How about something practical?  Can you program a square root function without importing a package?"
   ]
  },
  {
   "cell_type": "markdown",
   "id": "9c936ed3-9857-4cdc-937a-6514e1868194",
   "metadata": {},
   "source": [
    "## Returning a value"
   ]
  },
  {
   "cell_type": "code",
   "execution_count": 10,
   "id": "c6566b60-d2f5-4408-b700-5aab437989ae",
   "metadata": {},
   "outputs": [],
   "source": [
    "def tell_time(minutes):\n",
    "    estimate = str(minutes) +  \" minutes left in class\"\n",
    "    return estimate"
   ]
  },
  {
   "cell_type": "code",
   "execution_count": 11,
   "id": "89f19ec4-4a67-44ee-916b-45e42cde4c3e",
   "metadata": {},
   "outputs": [
    {
     "name": "stdout",
     "output_type": "stream",
     "text": [
      "15 minutes left in class\n"
     ]
    }
   ],
   "source": [
    "print(tell_time(15))"
   ]
  }
 ],
 "metadata": {
  "kernelspec": {
   "display_name": "Python 3 (ipykernel)",
   "language": "python",
   "name": "python3"
  },
  "language_info": {
   "codemirror_mode": {
    "name": "ipython",
    "version": 3
   },
   "file_extension": ".py",
   "mimetype": "text/x-python",
   "name": "python",
   "nbconvert_exporter": "python",
   "pygments_lexer": "ipython3",
   "version": "3.9.7"
  }
 },
 "nbformat": 4,
 "nbformat_minor": 5
}
