{
 "cells": [
  {
   "cell_type": "markdown",
   "id": "c5d9492f-fa23-4c5c-80b6-6668d6af0d13",
   "metadata": {},
   "source": [
    "## My first Python Functions (modified 4/8)\n",
    "\n",
    "added a few doctring examples \"\"\" docstring \"\"\"\n",
    "\n",
    "and some \"magic\" commands such as %%writefile"
   ]
  },
  {
   "cell_type": "code",
   "execution_count": null,
   "id": "cb2bdb36-f9f1-4a5f-a6c4-44d3d75eb0b2",
   "metadata": {},
   "outputs": [],
   "source": [
    "%%writefile my_first_functions1.py\n",
    "\n",
    "def the_weather():\n",
    "    \"\"\"example with name defined non-local\"\"\"\n",
    "    print(\"Good morning \" + name)\n",
    "    print(\"It's gonna be a hot one\")\n"
   ]
  },
  {
   "cell_type": "code",
   "execution_count": null,
   "id": "fb72494f-c669-48b8-92d2-93d83cc6c717",
   "metadata": {},
   "outputs": [],
   "source": [
    "name = \"Vivian\""
   ]
  },
  {
   "cell_type": "code",
   "execution_count": null,
   "id": "f59f90ca-1b48-4559-82b6-9d8924b21d5b",
   "metadata": {},
   "outputs": [],
   "source": [
    "## later you can %run my_first_functions1.py\n",
    "## recall the -i uses input from the notebook\n",
    "\n",
    "%run -i my_first_functions1.py\n",
    "\n",
    "## also\n",
    "## %run my_first_functions1.py \"Vivian\"`"
   ]
  },
  {
   "cell_type": "code",
   "execution_count": null,
   "id": "603bd7df-21f2-4eec-9d03-34383103ec20",
   "metadata": {},
   "outputs": [],
   "source": [
    "the_weather()"
   ]
  },
  {
   "cell_type": "markdown",
   "id": "d69641b9-fb0d-4752-962b-3bdc86bb4935",
   "metadata": {},
   "source": [
    "Silly example, yea, but demonstrates global, local, function definition"
   ]
  },
  {
   "cell_type": "code",
   "execution_count": null,
   "id": "cccb525f-5ad4-4075-ba9b-21b9ca011f57",
   "metadata": {},
   "outputs": [],
   "source": [
    "## BTW\n",
    "%pycat my_first_functions1.py"
   ]
  },
  {
   "cell_type": "code",
   "execution_count": null,
   "id": "3fed8f92-7abb-4fd8-922b-ac988e2f0a92",
   "metadata": {},
   "outputs": [],
   "source": [
    "# %load my_first_functions1.py\n",
    "\n",
    "def the_weather():\n",
    "    \"\"\"example with name defined non-local\"\"\"\n",
    "    print(\"Good morning \" + name)\n",
    "    print(\"It's gonna be a hot one\")\n"
   ]
  },
  {
   "cell_type": "code",
   "execution_count": null,
   "id": "1837383a-3a65-4d52-ae9f-c97e335d4cbf",
   "metadata": {},
   "outputs": [],
   "source": [
    "def the_weather2():\n",
    "    \"\"\"example with name defined locally\"\"\"\n",
    "    name = \"Vivian Lew\"  \n",
    "    print(\"Good morning \" + name)\n",
    "    print(\"It's gonna be a hot one\")"
   ]
  },
  {
   "cell_type": "code",
   "execution_count": null,
   "id": "de672c50-ce28-470b-a922-299deff7664a",
   "metadata": {},
   "outputs": [],
   "source": [
    "the_weather2()"
   ]
  },
  {
   "cell_type": "code",
   "execution_count": null,
   "id": "4f4ab2ab-5e24-43f0-bb66-5ece13102221",
   "metadata": {},
   "outputs": [],
   "source": [
    "print(name) # which one and why?"
   ]
  },
  {
   "cell_type": "markdown",
   "id": "6ddfd735-8f1c-4b4e-8cbf-0da7f96cbffa",
   "metadata": {},
   "source": [
    "We can pass a parameter between the parentheses, call it name, now can easily ues different values. Parameters store values."
   ]
  },
  {
   "cell_type": "code",
   "execution_count": null,
   "id": "92c984d4-4f23-45bd-8d5e-093145e36154",
   "metadata": {},
   "outputs": [],
   "source": [
    "def the_weather3(name):\n",
    "    \"\"\"example with name as parameter\"\"\"\n",
    "    print(\"Good morning \" + name)\n",
    "    print(\"It's gonna be a hot one\")"
   ]
  },
  {
   "cell_type": "code",
   "execution_count": null,
   "id": "81008d58-6dee-4d7c-8ba8-8d74210ebe2f",
   "metadata": {},
   "outputs": [],
   "source": [
    "the_weather3(\"Vivian Lew\")"
   ]
  },
  {
   "cell_type": "code",
   "execution_count": null,
   "id": "2179eb7d-4d8b-4c85-ba48-202053127544",
   "metadata": {},
   "outputs": [],
   "source": [
    "the_weather3(\"UCLA\")"
   ]
  },
  {
   "cell_type": "code",
   "execution_count": null,
   "id": "4b7ce114-1ea0-4900-bcef-8f350b2cdfad",
   "metadata": {},
   "outputs": [],
   "source": [
    "the_weather3(\"everybody\")"
   ]
  },
  {
   "cell_type": "markdown",
   "id": "60f084b1-cc90-4389-866e-ee419bad1ee6",
   "metadata": {},
   "source": [
    "How about something practical?  Can you program a square root function without importing a package?"
   ]
  },
  {
   "cell_type": "markdown",
   "id": "9c936ed3-9857-4cdc-937a-6514e1868194",
   "metadata": {},
   "source": [
    "## Returning a value"
   ]
  },
  {
   "cell_type": "code",
   "execution_count": null,
   "id": "c6566b60-d2f5-4408-b700-5aab437989ae",
   "metadata": {},
   "outputs": [],
   "source": [
    "def tell_time(minutes):\n",
    "    \"\"\"example with return value\"\"\"\n",
    "    estimate = str(minutes) +  \" minutes left in class\"\n",
    "    return estimate"
   ]
  },
  {
   "cell_type": "code",
   "execution_count": null,
   "id": "89f19ec4-4a67-44ee-916b-45e42cde4c3e",
   "metadata": {},
   "outputs": [],
   "source": [
    "print(tell_time(15))"
   ]
  }
 ],
 "metadata": {
  "kernelspec": {
   "display_name": "Python 3 (ipykernel)",
   "language": "python",
   "name": "python3"
  },
  "language_info": {
   "codemirror_mode": {
    "name": "ipython",
    "version": 3
   },
   "file_extension": ".py",
   "mimetype": "text/x-python",
   "name": "python",
   "nbconvert_exporter": "python",
   "pygments_lexer": "ipython3",
   "version": "3.9.7"
  }
 },
 "nbformat": 4,
 "nbformat_minor": 5
}
