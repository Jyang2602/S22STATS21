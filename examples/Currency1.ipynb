{
 "cells": [
  {
   "cell_type": "markdown",
   "id": "c36afda0-e7a2-43ca-bfcc-e81244f3beaa",
   "metadata": {},
   "source": [
    "# In class, In teams, 04-04-2022"
   ]
  },
  {
   "cell_type": "markdown",
   "id": "d58cfdf6-2093-4a5e-8e75-3f337a346b81",
   "metadata": {},
   "source": [
    "Please create a currency converter in a Jupyter Lab Notebook.  Things you may need:\n",
    "\n",
    "- print( ) function\n",
    "- input( ) function\n",
    "- int( ) function\n",
    "- basic math operators\n",
    "- f- string\n",
    "\n",
    "You are welcome to just modify the \"quick and dirty\" material here and rename everything to suit you.  For example, it doesn't need to be dollars and yen etc."
   ]
  },
  {
   "cell_type": "code",
   "execution_count": null,
   "id": "5028e177-616d-4edc-b3e9-674f73c6caf6",
   "metadata": {},
   "outputs": [
    {
     "name": "stdout",
     "output_type": "stream",
     "text": [
      "Please input a dollar amount (no decimals):\n"
     ]
    }
   ],
   "source": [
    "print(\"Please input a dollar amount (no decimals):\")\n",
    "dollars = input()"
   ]
  },
  {
   "cell_type": "markdown",
   "id": "8c9b7b38-2513-4f96-a8b5-20f9fb80350c",
   "metadata": {
    "jupyter": {
     "outputs_hidden": true
    },
    "tags": []
   },
   "source": [
    "You will need integers for the math portion --  unfortunately the user input function input() converts everything to string.\n"
   ]
  },
  {
   "cell_type": "code",
   "execution_count": null,
   "id": "7f40ef9a-6761-4b01-94e0-01510386b975",
   "metadata": {},
   "outputs": [],
   "source": [
    "type(dollars)"
   ]
  },
  {
   "cell_type": "markdown",
   "id": "22595b20-2a3e-4c05-ba70-b2486e6e363a",
   "metadata": {},
   "source": [
    "The int( ) function will fix it"
   ]
  },
  {
   "cell_type": "code",
   "execution_count": null,
   "id": "76516934-13b8-4dd3-99d3-0e17c82ab551",
   "metadata": {},
   "outputs": [],
   "source": [
    "dollars_fixed = int(dollars)"
   ]
  },
  {
   "cell_type": "markdown",
   "id": "97d3531c-be08-4dad-9b4c-b4b2e61b579e",
   "metadata": {},
   "source": [
    "If you are a pro, you can make this work a lot better by going out to the web with Python and grabbing the real-time trading value (that would make a nice final project BTW -- still thinking about format) I'm keeping this real simple"
   ]
  },
  {
   "cell_type": "code",
   "execution_count": null,
   "id": "7135c00c-ba47-486b-be80-b1cf8471852f",
   "metadata": {},
   "outputs": [],
   "source": [
    "yen = dollars_fixed * 123"
   ]
  },
  {
   "cell_type": "markdown",
   "id": "300e42bc-c305-49ad-b675-839105f81b2d",
   "metadata": {},
   "source": [
    "Then output something for your users:"
   ]
  },
  {
   "cell_type": "code",
   "execution_count": null,
   "id": "8eb9feaf-1d9e-4b29-a59c-171cbae93eb2",
   "metadata": {},
   "outputs": [],
   "source": [
    "print(f\"Your {dollars} dollars is approximately {yen} yen.\")"
   ]
  }
 ],
 "metadata": {
  "kernelspec": {
   "display_name": "Python 3 (ipykernel)",
   "language": "python",
   "name": "python3"
  },
  "language_info": {
   "codemirror_mode": {
    "name": "ipython",
    "version": 3
   },
   "file_extension": ".py",
   "mimetype": "text/x-python",
   "name": "python",
   "nbconvert_exporter": "python",
   "pygments_lexer": "ipython3",
   "version": "3.9.7"
  }
 },
 "nbformat": 4,
 "nbformat_minor": 5
}
